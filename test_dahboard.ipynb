{
 "cells": [
  {
   "cell_type": "code",
   "execution_count": 2,
   "metadata": {},
   "outputs": [
    {
     "name": "stdout",
     "output_type": "stream",
     "text": [
      "hello world\n"
     ]
    }
   ],
   "source": [
    "print('hello world')\n",
    "\n",
    "# PROJECT INFO\n",
    "\n",
    "PROJECT_NAME = 'PROJECT NAME'\n",
    "PROJECT_ID = \"23/00000\"\n",
    "LOCATION = 'LOCATION'\n",
    "CLIENT = 'CLIENT'\n",
    "LAST_UPDATE = 'LAST_UPDATE'\n",
    "REVISION = 1\n",
    "SPECKLE_STREAM = '21c4d435f0'\n"
   ]
  },
  {
   "cell_type": "code",
   "execution_count": 29,
   "metadata": {},
   "outputs": [],
   "source": [
    "import pandas as pd\n",
    "\n",
    "project_details = [\n",
    "    [\"Project Name\", PROJECT_NAME],\n",
    "    [\"Project ID\", PROJECT_ID],\n",
    "    [\"Location\" ,  LOCATION],\n",
    "    [\"Client\" ,  CLIENT],\n",
    "    [\"Last Update\", LAST_UPDATE],\n",
    "    [\"Revision\" ,  REVISION,],\n",
    "]"
   ]
  },
  {
   "cell_type": "code",
   "execution_count": 28,
   "metadata": {},
   "outputs": [
    {
     "data": {
      "text/html": [
       "<div>\n",
       "<style scoped>\n",
       "    .dataframe tbody tr th:only-of-type {\n",
       "        vertical-align: middle;\n",
       "    }\n",
       "\n",
       "    .dataframe tbody tr th {\n",
       "        vertical-align: top;\n",
       "    }\n",
       "\n",
       "    .dataframe thead th {\n",
       "        text-align: right;\n",
       "    }\n",
       "</style>\n",
       "<table border=\"1\" class=\"dataframe\">\n",
       "  <thead>\n",
       "    <tr style=\"text-align: right;\">\n",
       "      <th></th>\n",
       "      <th>Property</th>\n",
       "      <th>Value</th>\n",
       "    </tr>\n",
       "  </thead>\n",
       "  <tbody>\n",
       "    <tr>\n",
       "      <th>0</th>\n",
       "      <td>Project Name</td>\n",
       "      <td>PROJECT NAME</td>\n",
       "    </tr>\n",
       "    <tr>\n",
       "      <th>1</th>\n",
       "      <td>Project ID</td>\n",
       "      <td>23/00000</td>\n",
       "    </tr>\n",
       "    <tr>\n",
       "      <th>2</th>\n",
       "      <td>Location</td>\n",
       "      <td>LOCATION</td>\n",
       "    </tr>\n",
       "    <tr>\n",
       "      <th>3</th>\n",
       "      <td>Client</td>\n",
       "      <td>CLIENT</td>\n",
       "    </tr>\n",
       "    <tr>\n",
       "      <th>4</th>\n",
       "      <td>Last Update</td>\n",
       "      <td>LAST_UPDATE</td>\n",
       "    </tr>\n",
       "    <tr>\n",
       "      <th>5</th>\n",
       "      <td>Revision</td>\n",
       "      <td>1</td>\n",
       "    </tr>\n",
       "  </tbody>\n",
       "</table>\n",
       "</div>"
      ],
      "text/plain": [
       "       Property         Value\n",
       "0  Project Name  PROJECT NAME\n",
       "1    Project ID      23/00000\n",
       "2      Location      LOCATION\n",
       "3        Client        CLIENT\n",
       "4   Last Update   LAST_UPDATE\n",
       "5      Revision             1"
      ]
     },
     "execution_count": 28,
     "metadata": {},
     "output_type": "execute_result"
    }
   ],
   "source": [
    "project_details_df = pd.DataFrame(project_details, columns=['Property', 'Value'])\n",
    "project_details_df"
   ]
  },
  {
   "cell_type": "code",
   "execution_count": 31,
   "metadata": {},
   "outputs": [],
   "source": [
    "project_details = {\n",
    "    'Project Name':PROJECT_NAME,\n",
    "    \"Project ID\" : PROJECT_ID,\n",
    "    \"Location\" : LOCATION,\n",
    "    \"Client\" : CLIENT,\n",
    "    \"Last Update\" : LAST_UPDATE,\n",
    "    \"Revision\" : REVISION, \n",
    "}\n",
    "\n",
    "roject_details_df = pd.DataFrame(list(project_details.items()), columns=['Property', 'Value'])"
   ]
  },
  {
   "cell_type": "code",
   "execution_count": null,
   "metadata": {},
   "outputs": [],
   "source": [
    "HOST = \"https://speckle.xyz\"\n",
    "STREAM_ID = \"c7ecab3889\"\n",
    "COMMIT_ID = \"bad53d2d24\"  # commit containing objects with materials already added"
   ]
  },
  {
   "cell_type": "code",
   "execution_count": null,
   "metadata": {},
   "outputs": [],
   "source": [
    "from specklepy.api import operations\n",
    "from specklepy.api.client import SpeckleClient\n",
    "from specklepy.api.credentials import get_default_account\n",
    "from specklepy.transports.server import ServerTransport\n",
    "\n",
    "# create and authenticate a client\n",
    "client = SpeckleClient(host=HOST)\n",
    "account = get_default_account()\n",
    "client.authenticate(token=account.token)\n",
    "\n",
    "# get the specified commit data\n",
    "commit = client.commit.get(STREAM_ID, COMMIT_ID)\n",
    "\n",
    "# create an authenticated server transport from the client and receive the commit obj\n",
    "transport = ServerTransport(STREAM_ID, client)\n",
    "res = operations.receive(commit.referencedObject, transport)\n",
    "\n",
    "# get the list of levels from the received object\n",
    "# levels = res[\"data\"]"
   ]
  },
  {
   "cell_type": "markdown",
   "metadata": {},
   "source": [
    "Update Existing Objects"
   ]
  },
  {
   "cell_type": "code",
   "execution_count": null,
   "metadata": {},
   "outputs": [],
   "source": [
    "base = res[\"@data\"][0][0][0][0][0]\n",
    "base"
   ]
  },
  {
   "cell_type": "code",
   "execution_count": null,
   "metadata": {},
   "outputs": [],
   "source": [
    "df_values = base[\"@DF_values\"]\n",
    "df_values"
   ]
  },
  {
   "cell_type": "code",
   "execution_count": null,
   "metadata": {},
   "outputs": [],
   "source": [
    "import pandas as pd\n",
    "df = pd.DataFrame(df_values, columns=['df_values'])\n",
    "df"
   ]
  },
  {
   "cell_type": "code",
   "execution_count": null,
   "metadata": {},
   "outputs": [],
   "source": [
    "import pandas as pd"
   ]
  },
  {
   "cell_type": "code",
   "execution_count": null,
   "metadata": {},
   "outputs": [],
   "source": []
  }
 ],
 "metadata": {
  "interpreter": {
   "hash": "2370bb269eefc40f8de276308379799ec22f377b7815c435f28f2257fe55b83b"
  },
  "kernelspec": {
   "display_name": "Python 3.8.8 64-bit",
   "language": "python",
   "name": "python3"
  },
  "language_info": {
   "codemirror_mode": {
    "name": "ipython",
    "version": 3
   },
   "file_extension": ".py",
   "mimetype": "text/x-python",
   "name": "python",
   "nbconvert_exporter": "python",
   "pygments_lexer": "ipython3",
   "version": "3.8.12"
  },
  "orig_nbformat": 4
 },
 "nbformat": 4,
 "nbformat_minor": 2
}
