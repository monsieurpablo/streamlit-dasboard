{
 "cells": [
  {
   "cell_type": "code",
   "execution_count": 196,
   "metadata": {},
   "outputs": [],
   "source": [
    "# import libraries\n",
    "import streamlit as st\n",
    "import pandas as pd\n",
    "import numpy as np\n",
    "\n",
    "import streamlit.components.v1 as components\n",
    "\n",
    "from specklepy.api import operations\n",
    "from specklepy.api.client import SpeckleClient\n",
    "from specklepy.api.credentials import get_default_account\n",
    "from specklepy.transports.server import ServerTransport\n",
    "\n",
    "\n",
    "from typing import Any, List"
   ]
  },
  {
   "cell_type": "code",
   "execution_count": 197,
   "metadata": {},
   "outputs": [],
   "source": [
    "import os\n",
    "TOKEN_ID = os.environ.get('SPECKLE_TOKEN')"
   ]
  },
  {
   "cell_type": "code",
   "execution_count": 198,
   "metadata": {},
   "outputs": [],
   "source": [
    "HOST = \"https://speckle.xyz\"\n",
    "STREAM_ID = \"0b7b9e7705\"\n",
    "\n",
    "def get_authenticated_client() -> SpeckleClient:\n",
    "    \"\"\"\n",
    "    This assumes you already have a local account. If you don't already have one, you'll need\n",
    "    to download the Speckle Manager and add an account for your server (which can be localhost).\n",
    "    See the docs for more info: https://speckle.guide/user/manager.html\n",
    "    \"\"\"\n",
    "    client = SpeckleClient(host=HOST)\n",
    "    client.authenticate(token=TOKEN_ID)\n",
    "    \n",
    "    # account = get_default_account()\n",
    "    # client.authenticate(token=TOKEN_ID)\n",
    "\n",
    "    return client\n",
    "\n",
    "def get_branches(client: SpeckleClient, stream_id: str = STREAM_ID) -> Any:\n",
    "    # get the specified commit data\n",
    "    stream = client.stream.get(STREAM_ID)\n",
    "    # create an authenticated server transport from the client and receive the commit obj\n",
    "    transport = ServerTransport(STREAM_ID, client)\n",
    "    # get all the branches\n",
    "    branches = client.branch.list(stream_id=STREAM_ID, branches_limit= 100)\n",
    "    \n",
    "    return branches\n",
    "\n",
    "# def receive_data(client: SpeckleClient, stream_id: str = STREAM_ID, commit_id: str = COMMIT_ID) -> Any:\n",
    "#     transport = ServerTransport(client, stream_id)\n",
    "\n",
    "#     commit = client.commit.get(stream_id, commit_id)\n",
    "#     data = operations.receive(commit.referencedObject, transport)\n",
    "\n",
    "#     return data[\"data\"]\n",
    "\n",
    "def speckle_df(branches) -> pd.DataFrame:\n",
    "    a = [(b.name, b.id, b) for b in branches]\n",
    "\n",
    "    # create pandas dataframe\n",
    "    df = pd.DataFrame(a, columns=['branch', 'id', 'b-object'])\n",
    "    df = df.join(df.branch.str.split('/', expand=True))\n",
    "    df = df.rename(columns={0:'revision', 1:'area',2:'metric'}, inplace=False)\n",
    "    \n",
    "    df = df[df['revision'] != 'main']\n",
    "    \n",
    "    return df"
   ]
  },
  {
   "cell_type": "code",
   "execution_count": 199,
   "metadata": {},
   "outputs": [
    {
     "name": "stderr",
     "output_type": "stream",
     "text": [
      "2022-03-07 15:51:14.083 INFO    gql.transport.requests: >>> {\"query\": \"query Server {\\n  serverInfo {\\n    name\\n    company\\n    description\\n    adminContact\\n    canonicalUrl\\n    version\\n    roles {\\n      name\\n      description\\n      resourceTarget\\n    }\\n    scopes {\\n      name\\n      description\\n    }\\n    authStrategies {\\n      id\\n      name\\n      icon\\n    }\\n  }\\n}\"}\n",
      "2022-03-07 15:51:14.198 INFO    gql.transport.requests: <<< {\"data\":{\"serverInfo\":{\"name\":\"Speckle XYZ\",\"company\":\"AEC Systems Ltd.\",\"description\":\"The Official Speckle Server - Empowering Your Design and Construction Data.\",\"adminContact\":\"office@speckle.systems\",\"canonicalUrl\":null,\"version\":\"2.3.14\",\"roles\":[{\"name\":\"stream:reviewer\",\"description\":\"Reviewers can only view (read) the data from this stream.\",\"resourceTarget\":\"streams\"},{\"name\":\"stream:owner\",\"description\":\"Owners have full access, including deletion rights & access control.\",\"resourceTarget\":\"streams\"},{\"name\":\"stream:contributor\",\"description\":\"Contributors can create new branches and commits, but they cannot edit stream details or manage collaborators.\",\"resourceTarget\":\"streams\"}],\"scopes\":[{\"name\":\"streams:read\",\"description\":\"Read your streams, and any associated information (branches, commits, objects).\"},{\"name\":\"streams:write\",\"description\":\"Create streams on your behalf, and any associated data (branches, commits, objects).\"},{\"name\":\"profile:read\",\"description\":\"Read your profile information (name, bio, company).\"},{\"name\":\"profile:email\",\"description\":\"Grants access to the email address you registered with.\"},{\"name\":\"users:read\",\"description\":\"Read other users' profile on your behalf.\"},{\"name\":\"server:stats\",\"description\":\"Request server stats from the api. Only works in conjunction with a \\\"server:admin\\\" role.\"}],\"authStrategies\":[{\"id\":\"google\",\"name\":\"Google\",\"icon\":\"mdi-google\"},{\"id\":\"local\",\"name\":\"Local\",\"icon\":\"TODO\"}]}}}\n",
      "\n",
      "2022-03-07 15:51:14.203 INFO    gql.transport.requests: >>> {\"query\": \"query Stream($id: String!, $branch_limit: Int!, $commit_limit: Int!) {\\n  stream(id: $id) {\\n    id\\n    name\\n    description\\n    isPublic\\n    createdAt\\n    updatedAt\\n    collaborators {\\n      id\\n      name\\n      role\\n      avatar\\n    }\\n    branches(limit: $branch_limit) {\\n      totalCount\\n      cursor\\n      items {\\n        id\\n        name\\n        description\\n        commits(limit: $commit_limit) {\\n          totalCount\\n          cursor\\n          items {\\n            id\\n            referencedObject\\n            message\\n            authorName\\n            authorId\\n            createdAt\\n          }\\n        }\\n      }\\n    }\\n  }\\n}\", \"variables\": {\"id\": \"0b7b9e7705\", \"branch_limit\": 10, \"commit_limit\": 10}}\n",
      "2022-03-07 15:51:14.558 INFO    gql.transport.requests: <<< {\"data\":{\"stream\":{\"id\":\"0b7b9e7705\",\"name\":\"HL-Test-Project\",\"description\":\"Description of the project\",\"isPublic\":true,\"createdAt\":\"2021-11-16T15:19:16.280Z\",\"updatedAt\":\"2022-03-07T15:50:56.577Z\",\"collaborators\":[{\"id\":\"a25c8b9c9c\",\"name\":\"Pablo Arango\",\"role\":\"stream:owner\",\"avatar\":null}],\"branches\":{\"totalCount\":25,\"cursor\":\"2021-11-19T11:28:41.302Z\",\"items\":[{\"id\":\"63142060f2\",\"name\":\"main\",\"description\":\"default branch\",\"commits\":{\"totalCount\":7,\"cursor\":\"2021-11-16T15:20:32.217Z\",\"items\":[{\"id\":\"1bdc210ce6\",\"referencedObject\":\"32000fb67fbd4836d98f30989a7cbf11\",\"message\":\"0\",\"authorName\":\"Pablo Arango\",\"authorId\":\"a25c8b9c9c\",\"createdAt\":\"2021-11-19T10:25:37.578Z\"},{\"id\":\"1b72f169ce\",\"referencedObject\":\"168907004e280bad25e155818912a917\",\"message\":\"0\",\"authorName\":\"Pablo Arango\",\"authorId\":\"a25c8b9c9c\",\"createdAt\":\"2021-11-19T10:25:13.834Z\"},{\"id\":\"1d07717478\",\"referencedObject\":\"8cc0ee32775b892808e2a038c330ddd5\",\"message\":\"90\",\"authorName\":\"Pablo Arango\",\"authorId\":\"a25c8b9c9c\",\"createdAt\":\"2021-11-17T17:07:32.031Z\"},{\"id\":\"095b77c778\",\"referencedObject\":\"d77199616713eaadf7d3e2f1e170d313\",\"message\":\"first commit\",\"authorName\":\"Pablo Arango\",\"authorId\":\"a25c8b9c9c\",\"createdAt\":\"2021-11-16T16:51:00.165Z\"},{\"id\":\"6284f12778\",\"referencedObject\":\"d77199616713eaadf7d3e2f1e170d313\",\"message\":\"first commit\",\"authorName\":\"Pablo Arango\",\"authorId\":\"a25c8b9c9c\",\"createdAt\":\"2021-11-16T15:57:01.631Z\"},{\"id\":\"88a82fbb9e\",\"referencedObject\":\"2fc833e6832547c0a54884c92c527d38\",\"message\":\"first commit\",\"authorName\":\"Pablo Arango\",\"authorId\":\"a25c8b9c9c\",\"createdAt\":\"2021-11-16T15:20:58.384Z\"},{\"id\":\"f0be4cba2f\",\"referencedObject\":\"9a7ae59f980828c180df259943c01e19\",\"message\":\"first commit\",\"authorName\":\"Pablo Arango\",\"authorId\":\"a25c8b9c9c\",\"createdAt\":\"2021-11-16T15:20:32.217Z\"}]}},{\"id\":\"1e986514a3\",\"name\":\"rev1/cfd/0\",\"description\":\"cfd results for cfd_results0\",\"commits\":{\"totalCount\":6,\"cursor\":\"2021-11-19T10:25:59.645Z\",\"items\":[{\"id\":\"0f4b7c563f\",\"referencedObject\":\"168907004e280bad25e155818912a917\",\"message\":\"0\",\"authorName\":\"Pablo Arango\",\"authorId\":\"a25c8b9c9c\",\"createdAt\":\"2021-11-19T10:28:43.880Z\"},{\"id\":\"6520125780\",\"referencedObject\":\"168907004e280bad25e155818912a917\",\"message\":\"0\",\"authorName\":\"Pablo Arango\",\"authorId\":\"a25c8b9c9c\",\"createdAt\":\"2021-11-19T10:27:58.041Z\"},{\"id\":\"0af0bf56b0\",\"referencedObject\":\"168907004e280bad25e155818912a917\",\"message\":\"Pushed 7 elements from Grasshopper.\",\"authorName\":\"Pablo Arango\",\"authorId\":\"a25c8b9c9c\",\"createdAt\":\"2021-11-19T10:27:55.528Z\"},{\"id\":\"91cfb75691\",\"referencedObject\":\"168907004e280bad25e155818912a917\",\"message\":\"0\",\"authorName\":\"Pablo Arango\",\"authorId\":\"a25c8b9c9c\",\"createdAt\":\"2021-11-19T10:27:36.482Z\"},{\"id\":\"e2e6c7401b\",\"referencedObject\":\"168907004e280bad25e155818912a917\",\"message\":\"0\",\"authorName\":\"Pablo Arango\",\"authorId\":\"a25c8b9c9c\",\"createdAt\":\"2021-11-19T10:26:59.510Z\"},{\"id\":\"031ef611a1\",\"referencedObject\":\"168907004e280bad25e155818912a917\",\"message\":\"0\",\"authorName\":\"Pablo Arango\",\"authorId\":\"a25c8b9c9c\",\"createdAt\":\"2021-11-19T10:25:59.645Z\"}]}},{\"id\":\"2f628a5b63\",\"name\":\"rev1/cfd/90\",\"description\":\"cfd results for cfd_results90\",\"commits\":{\"totalCount\":1,\"cursor\":\"2021-11-19T10:28:28.140Z\",\"items\":[{\"id\":\"e79d9ceffb\",\"referencedObject\":\"9baa9ee9cd0e995635a147e6488f92f0\",\"message\":\"90\",\"authorName\":\"Pablo Arango\",\"authorId\":\"a25c8b9c9c\",\"createdAt\":\"2021-11-19T10:28:28.140Z\"}]}},{\"id\":\"f5832180f1\",\"name\":\"rev1/cfd/180\",\"description\":\"cfd results for cfd_results180\",\"commits\":{\"totalCount\":1,\"cursor\":\"2021-11-19T10:28:34.028Z\",\"items\":[{\"id\":\"dbe367cfa6\",\"referencedObject\":\"3b95271e6684d958025b1fe1884e236c\",\"message\":\"180\",\"authorName\":\"Pablo Arango\",\"authorId\":\"a25c8b9c9c\",\"createdAt\":\"2021-11-19T10:28:34.028Z\"}]}},{\"id\":\"057325d70d\",\"name\":\"rev1/cfd/225\",\"description\":\"cfd results for cfd_results225\",\"commits\":{\"totalCount\":1,\"cursor\":\"2021-11-19T10:28:37.018Z\",\"items\":[{\"id\":\"f30481efe9\",\"referencedObject\":\"850696a01cc38ed8c13da8b0365d0c79\",\"message\":\"225\",\"authorName\":\"Pablo Arango\",\"authorId\":\"a25c8b9c9c\",\"createdAt\":\"2021-11-19T10:28:37.018Z\"}]}},{\"id\":\"5b77d22cfd\",\"name\":\"rev1/cfd/270\",\"description\":\"cfd results for cfd_results270\",\"commits\":{\"totalCount\":1,\"cursor\":\"2021-11-19T10:28:39.368Z\",\"items\":[{\"id\":\"dd535a8125\",\"referencedObject\":\"777e28ebca45d66030986a0df7199559\",\"message\":\"270\",\"authorName\":\"Pablo Arango\",\"authorId\":\"a25c8b9c9c\",\"createdAt\":\"2021-11-19T10:28:39.368Z\"}]}},{\"id\":\"dc6677a6c5\",\"name\":\"rev1/rad/rad_summer\",\"description\":\"cfd results for rad_results0\",\"commits\":{\"totalCount\":13,\"cursor\":\"2022-02-10T15:39:50.726Z\",\"items\":[{\"id\":\"9dfb6ea129\",\"referencedObject\":\"0567db07da7be04375cc5abb18331ede\",\"message\":\"Pushed 38 elements from Grasshopper.\",\"authorName\":\"Pablo Arango\",\"authorId\":\"a25c8b9c9c\",\"createdAt\":\"2022-02-10T16:06:06.898Z\"},{\"id\":\"2dd0e86d1a\",\"referencedObject\":\"0567db07da7be04375cc5abb18331ede\",\"message\":\"Pushed 38 elements from Grasshopper.\",\"authorName\":\"Pablo Arango\",\"authorId\":\"a25c8b9c9c\",\"createdAt\":\"2022-02-10T15:56:47.983Z\"},{\"id\":\"54ea6de4f8\",\"referencedObject\":\"0567db07da7be04375cc5abb18331ede\",\"message\":\"Pushed 38 elements from Grasshopper.\",\"authorName\":\"Pablo Arango\",\"authorId\":\"a25c8b9c9c\",\"createdAt\":\"2022-02-10T15:56:30.313Z\"},{\"id\":\"51c9a23634\",\"referencedObject\":\"13fc19d2b84a208b7d9510581fd80773\",\"message\":\"Pushed 38 elements from Grasshopper.\",\"authorName\":\"Pablo Arango\",\"authorId\":\"a25c8b9c9c\",\"createdAt\":\"2022-02-10T15:51:56.026Z\"},{\"id\":\"8d5da3cb40\",\"referencedObject\":\"13fc19d2b84a208b7d9510581fd80773\",\"message\":\"Pushed 38 elements from Grasshopper.\",\"authorName\":\"Pablo Arango\",\"authorId\":\"a25c8b9c9c\",\"createdAt\":\"2022-02-10T15:51:38.848Z\"},{\"id\":\"b0ff1d83d8\",\"referencedObject\":\"4cf3ddd929416e5734bf2c16087aebce\",\"message\":\"Pushed 38 elements from Grasshopper.\",\"authorName\":\"Pablo Arango\",\"authorId\":\"a25c8b9c9c\",\"createdAt\":\"2022-02-10T15:50:25.449Z\"},{\"id\":\"8d3018652a\",\"referencedObject\":\"a2ca8802323130ddc5d27e285069285f\",\"message\":\"Pushed 265 elements from Grasshopper.\",\"authorName\":\"Pablo Arango\",\"authorId\":\"a25c8b9c9c\",\"createdAt\":\"2022-02-10T15:50:02.613Z\"},{\"id\":\"acb6d610ea\",\"referencedObject\":\"c56327091469a519bbf21e99608803a5\",\"message\":\"Pushed 6 elements from Grasshopper.\",\"authorName\":\"Pablo Arango\",\"authorId\":\"a25c8b9c9c\",\"createdAt\":\"2022-02-10T15:45:22.366Z\"},{\"id\":\"8e20f5e6d0\",\"referencedObject\":\"1c697559a856ac404a79f047936f256e\",\"message\":\"Pushed 5 elements from Grasshopper.\",\"authorName\":\"Pablo Arango\",\"authorId\":\"a25c8b9c9c\",\"createdAt\":\"2022-02-10T15:40:27.479Z\"},{\"id\":\"5e96365571\",\"referencedObject\":\"34bf26269e0991352dbdd7fa157df41c\",\"message\":\"Pushed 1 elements from Grasshopper.\",\"authorName\":\"Pablo Arango\",\"authorId\":\"a25c8b9c9c\",\"createdAt\":\"2022-02-10T15:39:50.726Z\"}]}},{\"id\":\"a21f8e2601\",\"name\":\"rev1/rad/rad_winter\",\"description\":\"cfd results for rad_results1\",\"commits\":{\"totalCount\":1,\"cursor\":\"2021-11-19T11:36:02.917Z\",\"items\":[{\"id\":\"aaf1e5e74a\",\"referencedObject\":\"9d905d536d8478a428261266cd666467\",\"message\":\"1\",\"authorName\":\"Pablo Arango\",\"authorId\":\"a25c8b9c9c\",\"createdAt\":\"2021-11-19T11:36:02.917Z\"}]}},{\"id\":\"81b59e7ebd\",\"name\":\"rev1/rad/rad_spring\",\"description\":\"cfd results for rad_results2\",\"commits\":{\"totalCount\":1,\"cursor\":\"2021-11-19T11:36:56.693Z\",\"items\":[{\"id\":\"a2a8843461\",\"referencedObject\":\"96d6f714e5a8f5956e32a9c5be218459\",\"message\":\"2\",\"authorName\":\"Pablo Arango\",\"authorId\":\"a25c8b9c9c\",\"createdAt\":\"2021-11-19T11:36:56.693Z\"}]}},{\"id\":\"4f61984bcf\",\"name\":\"rev1/rad/rad_annual\",\"description\":\"cfd results for rad_results3\",\"commits\":{\"totalCount\":1,\"cursor\":\"2021-11-19T11:37:56.780Z\",\"items\":[{\"id\":\"ee4ce1b9cf\",\"referencedObject\":\"f2adb3b7637df7c93a6997dc95869ae7\",\"message\":\"3\",\"authorName\":\"Pablo Arango\",\"authorId\":\"a25c8b9c9c\",\"createdAt\":\"2021-11-19T11:37:56.780Z\"}]}}]}}}}\n",
      "\n",
      "2022-03-07 15:51:14.563 INFO    gql.transport.requests: >>> {\"query\": \"query BranchesGet($stream_id: String!, $branches_limit: Int!, $commits_limit: Int!) {\\n  stream(id: $stream_id) {\\n    branches(limit: $branches_limit) {\\n      items {\\n        id\\n        name\\n        description\\n        commits(limit: $commits_limit) {\\n          totalCount\\n          items {\\n            id\\n            message\\n            referencedObject\\n            sourceApplication\\n            parents\\n            authorId\\n            authorName\\n            branchName\\n            createdAt\\n          }\\n        }\\n      }\\n    }\\n  }\\n}\", \"variables\": {\"stream_id\": \"0b7b9e7705\", \"branches_limit\": 100, \"commits_limit\": 10}}\n",
      "2022-03-07 15:51:14.819 INFO    gql.transport.requests: <<< {\"data\":{\"stream\":{\"branches\":{\"items\":[{\"id\":\"63142060f2\",\"name\":\"main\",\"description\":\"default branch\",\"commits\":{\"totalCount\":7,\"items\":[{\"id\":\"1bdc210ce6\",\"message\":\"0\",\"referencedObject\":\"32000fb67fbd4836d98f30989a7cbf11\",\"sourceApplication\":\"Grasshopper\",\"parents\":[\"1b72f169ce\"],\"authorId\":\"a25c8b9c9c\",\"authorName\":\"Pablo Arango\",\"branchName\":\"main\",\"createdAt\":\"2021-11-19T10:25:37.578Z\"},{\"id\":\"1b72f169ce\",\"message\":\"0\",\"referencedObject\":\"168907004e280bad25e155818912a917\",\"sourceApplication\":\"Grasshopper\",\"parents\":[\"1d07717478\"],\"authorId\":\"a25c8b9c9c\",\"authorName\":\"Pablo Arango\",\"branchName\":\"main\",\"createdAt\":\"2021-11-19T10:25:13.834Z\"},{\"id\":\"1d07717478\",\"message\":\"90\",\"referencedObject\":\"8cc0ee32775b892808e2a038c330ddd5\",\"sourceApplication\":\"Grasshopper\",\"parents\":[\"095b77c778\"],\"authorId\":\"a25c8b9c9c\",\"authorName\":\"Pablo Arango\",\"branchName\":\"main\",\"createdAt\":\"2021-11-17T17:07:32.031Z\"},{\"id\":\"095b77c778\",\"message\":\"first commit\",\"referencedObject\":\"d77199616713eaadf7d3e2f1e170d313\",\"sourceApplication\":\"Grasshopper\",\"parents\":[\"6284f12778\"],\"authorId\":\"a25c8b9c9c\",\"authorName\":\"Pablo Arango\",\"branchName\":\"main\",\"createdAt\":\"2021-11-16T16:51:00.165Z\"},{\"id\":\"6284f12778\",\"message\":\"first commit\",\"referencedObject\":\"d77199616713eaadf7d3e2f1e170d313\",\"sourceApplication\":\"Grasshopper\",\"parents\":[\"88a82fbb9e\"],\"authorId\":\"a25c8b9c9c\",\"authorName\":\"Pablo Arango\",\"branchName\":\"main\",\"createdAt\":\"2021-11-16T15:57:01.631Z\"},{\"id\":\"88a82fbb9e\",\"message\":\"first commit\",\"referencedObject\":\"2fc833e6832547c0a54884c92c527d38\",\"sourceApplication\":\"Grasshopper\",\"parents\":[\"f0be4cba2f\"],\"authorId\":\"a25c8b9c9c\",\"authorName\":\"Pablo Arango\",\"branchName\":\"main\",\"createdAt\":\"2021-11-16T15:20:58.384Z\"},{\"id\":\"f0be4cba2f\",\"message\":\"first commit\",\"referencedObject\":\"9a7ae59f980828c180df259943c01e19\",\"sourceApplication\":\"Grasshopper\",\"parents\":null,\"authorId\":\"a25c8b9c9c\",\"authorName\":\"Pablo Arango\",\"branchName\":\"main\",\"createdAt\":\"2021-11-16T15:20:32.217Z\"}]}},{\"id\":\"1e986514a3\",\"name\":\"rev1/cfd/0\",\"description\":\"cfd results for cfd_results0\",\"commits\":{\"totalCount\":6,\"items\":[{\"id\":\"0f4b7c563f\",\"message\":\"0\",\"referencedObject\":\"168907004e280bad25e155818912a917\",\"sourceApplication\":\"Grasshopper\",\"parents\":null,\"authorId\":\"a25c8b9c9c\",\"authorName\":\"Pablo Arango\",\"branchName\":\"rev1/cfd/0\",\"createdAt\":\"2021-11-19T10:28:43.880Z\"},{\"id\":\"6520125780\",\"message\":\"0\",\"referencedObject\":\"168907004e280bad25e155818912a917\",\"sourceApplication\":\"Grasshopper\",\"parents\":null,\"authorId\":\"a25c8b9c9c\",\"authorName\":\"Pablo Arango\",\"branchName\":\"rev1/cfd/0\",\"createdAt\":\"2021-11-19T10:27:58.041Z\"},{\"id\":\"0af0bf56b0\",\"message\":\"Pushed 7 elements from Grasshopper.\",\"referencedObject\":\"168907004e280bad25e155818912a917\",\"sourceApplication\":\"Grasshopper\",\"parents\":null,\"authorId\":\"a25c8b9c9c\",\"authorName\":\"Pablo Arango\",\"branchName\":\"rev1/cfd/0\",\"createdAt\":\"2021-11-19T10:27:55.528Z\"},{\"id\":\"91cfb75691\",\"message\":\"0\",\"referencedObject\":\"168907004e280bad25e155818912a917\",\"sourceApplication\":\"Grasshopper\",\"parents\":[\"e2e6c7401b\"],\"authorId\":\"a25c8b9c9c\",\"authorName\":\"Pablo Arango\",\"branchName\":\"rev1/cfd/0\",\"createdAt\":\"2021-11-19T10:27:36.482Z\"},{\"id\":\"e2e6c7401b\",\"message\":\"0\",\"referencedObject\":\"168907004e280bad25e155818912a917\",\"sourceApplication\":\"Grasshopper\",\"parents\":[\"031ef611a1\"],\"authorId\":\"a25c8b9c9c\",\"authorName\":\"Pablo Arango\",\"branchName\":\"rev1/cfd/0\",\"createdAt\":\"2021-11-19T10:26:59.510Z\"},{\"id\":\"031ef611a1\",\"message\":\"0\",\"referencedObject\":\"168907004e280bad25e155818912a917\",\"sourceApplication\":\"Grasshopper\",\"parents\":[\"1bdc210ce6\"],\"authorId\":\"a25c8b9c9c\",\"authorName\":\"Pablo Arango\",\"branchName\":\"rev1/cfd/0\",\"createdAt\":\"2021-11-19T10:25:59.645Z\"}]}},{\"id\":\"2f628a5b63\",\"name\":\"rev1/cfd/90\",\"description\":\"cfd results for cfd_results90\",\"commits\":{\"totalCount\":1,\"items\":[{\"id\":\"e79d9ceffb\",\"message\":\"90\",\"referencedObject\":\"9baa9ee9cd0e995635a147e6488f92f0\",\"sourceApplication\":\"Grasshopper\",\"parents\":null,\"authorId\":\"a25c8b9c9c\",\"authorName\":\"Pablo Arango\",\"branchName\":\"rev1/cfd/90\",\"createdAt\":\"2021-11-19T10:28:28.140Z\"}]}},{\"id\":\"f5832180f1\",\"name\":\"rev1/cfd/180\",\"description\":\"cfd results for cfd_results180\",\"commits\":{\"totalCount\":1,\"items\":[{\"id\":\"dbe367cfa6\",\"message\":\"180\",\"referencedObject\":\"3b95271e6684d958025b1fe1884e236c\",\"sourceApplication\":\"Grasshopper\",\"parents\":null,\"authorId\":\"a25c8b9c9c\",\"authorName\":\"Pablo Arango\",\"branchName\":\"rev1/cfd/180\",\"createdAt\":\"2021-11-19T10:28:34.028Z\"}]}},{\"id\":\"057325d70d\",\"name\":\"rev1/cfd/225\",\"description\":\"cfd results for cfd_results225\",\"commits\":{\"totalCount\":1,\"items\":[{\"id\":\"f30481efe9\",\"message\":\"225\",\"referencedObject\":\"850696a01cc38ed8c13da8b0365d0c79\",\"sourceApplication\":\"Grasshopper\",\"parents\":null,\"authorId\":\"a25c8b9c9c\",\"authorName\":\"Pablo Arango\",\"branchName\":\"rev1/cfd/225\",\"createdAt\":\"2021-11-19T10:28:37.018Z\"}]}},{\"id\":\"5b77d22cfd\",\"name\":\"rev1/cfd/270\",\"description\":\"cfd results for cfd_results270\",\"commits\":{\"totalCount\":1,\"items\":[{\"id\":\"dd535a8125\",\"message\":\"270\",\"referencedObject\":\"777e28ebca45d66030986a0df7199559\",\"sourceApplication\":\"Grasshopper\",\"parents\":null,\"authorId\":\"a25c8b9c9c\",\"authorName\":\"Pablo Arango\",\"branchName\":\"rev1/cfd/270\",\"createdAt\":\"2021-11-19T10:28:39.368Z\"}]}},{\"id\":\"dc6677a6c5\",\"name\":\"rev1/rad/rad_summer\",\"description\":\"cfd results for rad_results0\",\"commits\":{\"totalCount\":13,\"items\":[{\"id\":\"9dfb6ea129\",\"message\":\"Pushed 38 elements from Grasshopper.\",\"referencedObject\":\"0567db07da7be04375cc5abb18331ede\",\"sourceApplication\":\"Grasshopper\",\"parents\":null,\"authorId\":\"a25c8b9c9c\",\"authorName\":\"Pablo Arango\",\"branchName\":\"rev1/rad/rad_summer\",\"createdAt\":\"2022-02-10T16:06:06.898Z\"},{\"id\":\"2dd0e86d1a\",\"message\":\"Pushed 38 elements from Grasshopper.\",\"referencedObject\":\"0567db07da7be04375cc5abb18331ede\",\"sourceApplication\":\"Grasshopper\",\"parents\":null,\"authorId\":\"a25c8b9c9c\",\"authorName\":\"Pablo Arango\",\"branchName\":\"rev1/rad/rad_summer\",\"createdAt\":\"2022-02-10T15:56:47.983Z\"},{\"id\":\"54ea6de4f8\",\"message\":\"Pushed 38 elements from Grasshopper.\",\"referencedObject\":\"0567db07da7be04375cc5abb18331ede\",\"sourceApplication\":\"Grasshopper\",\"parents\":null,\"authorId\":\"a25c8b9c9c\",\"authorName\":\"Pablo Arango\",\"branchName\":\"rev1/rad/rad_summer\",\"createdAt\":\"2022-02-10T15:56:30.313Z\"},{\"id\":\"51c9a23634\",\"message\":\"Pushed 38 elements from Grasshopper.\",\"referencedObject\":\"13fc19d2b84a208b7d9510581fd80773\",\"sourceApplication\":\"Grasshopper\",\"parents\":null,\"authorId\":\"a25c8b9c9c\",\"authorName\":\"Pablo Arango\",\"branchName\":\"rev1/rad/rad_summer\",\"createdAt\":\"2022-02-10T15:51:56.026Z\"},{\"id\":\"8d5da3cb40\",\"message\":\"Pushed 38 elements from Grasshopper.\",\"referencedObject\":\"13fc19d2b84a208b7d9510581fd80773\",\"sourceApplication\":\"Grasshopper\",\"parents\":null,\"authorId\":\"a25c8b9c9c\",\"authorName\":\"Pablo Arango\",\"branchName\":\"rev1/rad/rad_summer\",\"createdAt\":\"2022-02-10T15:51:38.848Z\"},{\"id\":\"b0ff1d83d8\",\"message\":\"Pushed 38 elements from Grasshopper.\",\"referencedObject\":\"4cf3ddd929416e5734bf2c16087aebce\",\"sourceApplication\":\"Grasshopper\",\"parents\":null,\"authorId\":\"a25c8b9c9c\",\"authorName\":\"Pablo Arango\",\"branchName\":\"rev1/rad/rad_summer\",\"createdAt\":\"2022-02-10T15:50:25.449Z\"},{\"id\":\"8d3018652a\",\"message\":\"Pushed 265 elements from Grasshopper.\",\"referencedObject\":\"a2ca8802323130ddc5d27e285069285f\",\"sourceApplication\":\"Grasshopper\",\"parents\":null,\"authorId\":\"a25c8b9c9c\",\"authorName\":\"Pablo Arango\",\"branchName\":\"rev1/rad/rad_summer\",\"createdAt\":\"2022-02-10T15:50:02.613Z\"},{\"id\":\"acb6d610ea\",\"message\":\"Pushed 6 elements from Grasshopper.\",\"referencedObject\":\"c56327091469a519bbf21e99608803a5\",\"sourceApplication\":\"Grasshopper\",\"parents\":null,\"authorId\":\"a25c8b9c9c\",\"authorName\":\"Pablo Arango\",\"branchName\":\"rev1/rad/rad_summer\",\"createdAt\":\"2022-02-10T15:45:22.366Z\"},{\"id\":\"8e20f5e6d0\",\"message\":\"Pushed 5 elements from Grasshopper.\",\"referencedObject\":\"1c697559a856ac404a79f047936f256e\",\"sourceApplication\":\"Grasshopper\",\"parents\":null,\"authorId\":\"a25c8b9c9c\",\"authorName\":\"Pablo Arango\",\"branchName\":\"rev1/rad/rad_summer\",\"createdAt\":\"2022-02-10T15:40:27.479Z\"},{\"id\":\"5e96365571\",\"message\":\"Pushed 1 elements from Grasshopper.\",\"referencedObject\":\"34bf26269e0991352dbdd7fa157df41c\",\"sourceApplication\":\"Grasshopper\",\"parents\":null,\"authorId\":\"a25c8b9c9c\",\"authorName\":\"Pablo Arango\",\"branchName\":\"rev1/rad/rad_summer\",\"createdAt\":\"2022-02-10T15:39:50.726Z\"}]}},{\"id\":\"a21f8e2601\",\"name\":\"rev1/rad/rad_winter\",\"description\":\"cfd results for rad_results1\",\"commits\":{\"totalCount\":1,\"items\":[{\"id\":\"aaf1e5e74a\",\"message\":\"1\",\"referencedObject\":\"9d905d536d8478a428261266cd666467\",\"sourceApplication\":\"Grasshopper\",\"parents\":null,\"authorId\":\"a25c8b9c9c\",\"authorName\":\"Pablo Arango\",\"branchName\":\"rev1/rad/rad_winter\",\"createdAt\":\"2021-11-19T11:36:02.917Z\"}]}},{\"id\":\"81b59e7ebd\",\"name\":\"rev1/rad/rad_spring\",\"description\":\"cfd results for rad_results2\",\"commits\":{\"totalCount\":1,\"items\":[{\"id\":\"a2a8843461\",\"message\":\"2\",\"referencedObject\":\"96d6f714e5a8f5956e32a9c5be218459\",\"sourceApplication\":\"Grasshopper\",\"parents\":null,\"authorId\":\"a25c8b9c9c\",\"authorName\":\"Pablo Arango\",\"branchName\":\"rev1/rad/rad_spring\",\"createdAt\":\"2021-11-19T11:36:56.693Z\"}]}},{\"id\":\"4f61984bcf\",\"name\":\"rev1/rad/rad_annual\",\"description\":\"cfd results for rad_results3\",\"commits\":{\"totalCount\":1,\"items\":[{\"id\":\"ee4ce1b9cf\",\"message\":\"3\",\"referencedObject\":\"f2adb3b7637df7c93a6997dc95869ae7\",\"sourceApplication\":\"Grasshopper\",\"parents\":null,\"authorId\":\"a25c8b9c9c\",\"authorName\":\"Pablo Arango\",\"branchName\":\"rev1/rad/rad_annual\",\"createdAt\":\"2021-11-19T11:37:56.780Z\"}]}},{\"id\":\"d510c1d881\",\"name\":\"rev1/aq/adms\",\"description\":null,\"commits\":{\"totalCount\":3,\"items\":[{\"id\":\"89f64e2d67\",\"message\":\"first commit\",\"referencedObject\":\"36aeca9d662839d077fa575911a49f77\",\"sourceApplication\":\"Grasshopper\",\"parents\":[\"0bac20b839\"],\"authorId\":\"a25c8b9c9c\",\"authorName\":\"Pablo Arango\",\"branchName\":\"rev1/aq/adms\",\"createdAt\":\"2021-11-19T12:01:23.228Z\"},{\"id\":\"0bac20b839\",\"message\":\"first commit\",\"referencedObject\":\"3d0d2474a0e910876f665ebad939f853\",\"sourceApplication\":\"Grasshopper\",\"parents\":[\"7a1537d973\"],\"authorId\":\"a25c8b9c9c\",\"authorName\":\"Pablo Arango\",\"branchName\":\"rev1/aq/adms\",\"createdAt\":\"2021-11-19T12:00:50.559Z\"},{\"id\":\"7a1537d973\",\"message\":\"first commit\",\"referencedObject\":\"3d0d2474a0e910876f665ebad939f853\",\"sourceApplication\":\"Grasshopper\",\"parents\":null,\"authorId\":\"a25c8b9c9c\",\"authorName\":\"Pablo Arango\",\"branchName\":\"rev1/aq/adms\",\"createdAt\":\"2021-11-19T12:00:16.991Z\"}]}},{\"id\":\"c15d00cdd3\",\"name\":\"rev1/daylight/da\",\"description\":\"hellooooo\",\"commits\":{\"totalCount\":1,\"items\":[{\"id\":\"33bb67834d\",\"message\":\"Pushed 30 elements from Grasshopper.\",\"referencedObject\":\"a603e11e7d5142c1ff3917e5b3d79b46\",\"sourceApplication\":\"Grasshopper\",\"parents\":null,\"authorId\":\"a25c8b9c9c\",\"authorName\":\"Pablo Arango\",\"branchName\":\"rev1/daylight/da\",\"createdAt\":\"2022-01-21T15:14:06.879Z\"}]}},{\"id\":\"ed34503402\",\"name\":\"rev1/daylight/df\",\"description\":\"hellooooo\",\"commits\":{\"totalCount\":2,\"items\":[{\"id\":\"2d8441a4f8\",\"message\":\"Pushed 20 elements from Grasshopper.\",\"referencedObject\":\"21b08fa8b24a324d2c1999d6450fb74d\",\"sourceApplication\":\"Grasshopper\",\"parents\":[\"7ed857a79f\"],\"authorId\":\"a25c8b9c9c\",\"authorName\":\"Pablo Arango\",\"branchName\":\"rev1/daylight/df\",\"createdAt\":\"2022-01-21T15:14:14.250Z\"},{\"id\":\"7ed857a79f\",\"message\":\"Pushed 20 elements from Grasshopper.\",\"referencedObject\":\"f66c2f4e13a372fc4b56c699f7c6ee7c\",\"sourceApplication\":\"Grasshopper\",\"parents\":null,\"authorId\":\"a25c8b9c9c\",\"authorName\":\"Pablo Arango\",\"branchName\":\"rev1/daylight/df\",\"createdAt\":\"2022-01-21T15:10:22.383Z\"}]}},{\"id\":\"3467e6680d\",\"name\":\"rev1/daylight/udi\",\"description\":\"hellooooo\",\"commits\":{\"totalCount\":1,\"items\":[{\"id\":\"dc37275350\",\"message\":\"Pushed 31 elements from Grasshopper.\",\"referencedObject\":\"613f539fdf130034df0362a812888656\",\"sourceApplication\":\"Grasshopper\",\"parents\":null,\"authorId\":\"a25c8b9c9c\",\"authorName\":\"Pablo Arango\",\"branchName\":\"rev1/daylight/udi\",\"createdAt\":\"2022-01-21T15:13:46.585Z\"}]}},{\"id\":\"7744488ff0\",\"name\":\"rev1/daylight/vsc\",\"description\":\"hellooooo\",\"commits\":{\"totalCount\":6,\"items\":[{\"id\":\"f7321f6aa0\",\"message\":\"Pushed 65 elements from Grasshopper.\",\"referencedObject\":\"9cf4e16911f8a4d301a2549a2032876d\",\"sourceApplication\":\"Grasshopper\",\"parents\":[\"60824cbc85\"],\"authorId\":\"a25c8b9c9c\",\"authorName\":\"Pablo Arango\",\"branchName\":\"rev1/daylight/vsc\",\"createdAt\":\"2022-01-21T15:41:15.891Z\"},{\"id\":\"60824cbc85\",\"message\":\"Pushed 65 elements from Grasshopper.\",\"referencedObject\":\"9cf4e16911f8a4d301a2549a2032876d\",\"sourceApplication\":\"Grasshopper\",\"parents\":[\"8b076ea1f4\"],\"authorId\":\"a25c8b9c9c\",\"authorName\":\"Pablo Arango\",\"branchName\":\"rev1/daylight/vsc\",\"createdAt\":\"2022-01-21T15:39:28.593Z\"},{\"id\":\"8b076ea1f4\",\"message\":\"Pushed 117 elements from Grasshopper.\",\"referencedObject\":\"4af7f661131871d5350d289d165e8f91\",\"sourceApplication\":\"Grasshopper\",\"parents\":null,\"authorId\":\"a25c8b9c9c\",\"authorName\":\"Pablo Arango\",\"branchName\":\"rev1/daylight/vsc\",\"createdAt\":\"2022-01-21T15:38:16.154Z\"},{\"id\":\"38f6f6433a\",\"message\":\"Pushed 117 elements from Grasshopper.\",\"referencedObject\":\"4af7f661131871d5350d289d165e8f91\",\"sourceApplication\":\"Grasshopper\",\"parents\":[\"f6ea10eb58\"],\"authorId\":\"a25c8b9c9c\",\"authorName\":\"Pablo Arango\",\"branchName\":\"rev1/daylight/vsc\",\"createdAt\":\"2022-01-21T15:36:47.098Z\"},{\"id\":\"f6ea10eb58\",\"message\":\"Pushed 117 elements from Grasshopper.\",\"referencedObject\":\"3bee27dec943a4098fef3516865f4688\",\"sourceApplication\":\"Grasshopper\",\"parents\":[\"63e496fc99\"],\"authorId\":\"a25c8b9c9c\",\"authorName\":\"Pablo Arango\",\"branchName\":\"rev1/daylight/vsc\",\"createdAt\":\"2022-01-21T15:36:37.049Z\"},{\"id\":\"63e496fc99\",\"message\":\"Pushed 117 elements from Grasshopper.\",\"referencedObject\":\"3bee27dec943a4098fef3516865f4688\",\"sourceApplication\":\"Grasshopper\",\"parents\":null,\"authorId\":\"a25c8b9c9c\",\"authorName\":\"Pablo Arango\",\"branchName\":\"rev1/daylight/vsc\",\"createdAt\":\"2022-01-21T15:35:29.699Z\"}]}},{\"id\":\"f388e5e441\",\"name\":\"rev1/utci/utci_summer\",\"description\":\"hellooooo\",\"commits\":{\"totalCount\":7,\"items\":[{\"id\":\"3e62e56d0f\",\"message\":\"Pushed 209 elements from Grasshopper.\",\"referencedObject\":\"1f99a603082446a8ef7e6e1240e43290\",\"sourceApplication\":\"Grasshopper\",\"parents\":null,\"authorId\":\"a25c8b9c9c\",\"authorName\":\"Pablo Arango\",\"branchName\":\"rev1/utci/utci_summer\",\"createdAt\":\"2022-01-24T15:39:56.559Z\"},{\"id\":\"ce2aae97f4\",\"message\":\"Pushed 209 elements from Grasshopper.\",\"referencedObject\":\"1f99a603082446a8ef7e6e1240e43290\",\"sourceApplication\":\"Grasshopper\",\"parents\":null,\"authorId\":\"a25c8b9c9c\",\"authorName\":\"Pablo Arango\",\"branchName\":\"rev1/utci/utci_summer\",\"createdAt\":\"2022-01-24T15:39:04.465Z\"},{\"id\":\"b80ee1d566\",\"message\":\"Pushed 209 elements from Grasshopper.\",\"referencedObject\":\"1f99a603082446a8ef7e6e1240e43290\",\"sourceApplication\":\"Grasshopper\",\"parents\":null,\"authorId\":\"a25c8b9c9c\",\"authorName\":\"Pablo Arango\",\"branchName\":\"rev1/utci/utci_summer\",\"createdAt\":\"2022-01-24T15:38:30.519Z\"},{\"id\":\"3815041b5b\",\"message\":\"Pushed 209 elements from Grasshopper.\",\"referencedObject\":\"1f99a603082446a8ef7e6e1240e43290\",\"sourceApplication\":\"Grasshopper\",\"parents\":[\"9fc1e77d90\"],\"authorId\":\"a25c8b9c9c\",\"authorName\":\"Pablo Arango\",\"branchName\":\"rev1/utci/utci_summer\",\"createdAt\":\"2022-01-24T15:32:58.064Z\"},{\"id\":\"7d00012fa4\",\"message\":\"Pushed 202 elements from Grasshopper.\",\"referencedObject\":\"20e42c3ff1ff9d37a327cdf1586d1f41\",\"sourceApplication\":\"Grasshopper\",\"parents\":[\"fdf186f19b\"],\"authorId\":\"a25c8b9c9c\",\"authorName\":\"Pablo Arango\",\"branchName\":\"rev1/utci/utci_summer\",\"createdAt\":\"2022-01-24T15:23:11.641Z\"},{\"id\":\"8955eb5c99\",\"message\":\"Pushed 209 elements from Grasshopper.\",\"referencedObject\":\"1f99a603082446a8ef7e6e1240e43290\",\"sourceApplication\":\"Grasshopper\",\"parents\":[\"fdf186f19b\"],\"authorId\":\"a25c8b9c9c\",\"authorName\":\"Pablo Arango\",\"branchName\":\"rev1/utci/utci_summer\",\"createdAt\":\"2022-01-24T15:23:10.071Z\"},{\"id\":\"fdf186f19b\",\"message\":\"Pushed 209 elements from Grasshopper.\",\"referencedObject\":\"1f99a603082446a8ef7e6e1240e43290\",\"sourceApplication\":\"Grasshopper\",\"parents\":null,\"authorId\":\"a25c8b9c9c\",\"authorName\":\"Pablo Arango\",\"branchName\":\"rev1/utci/utci_summer\",\"createdAt\":\"2022-01-24T15:15:39.778Z\"}]}},{\"id\":\"ec1868fa97\",\"name\":\"rev1/utci/utci_spring\",\"description\":\"hellooooo\",\"commits\":{\"totalCount\":3,\"items\":[{\"id\":\"f410dce8ec\",\"message\":\"Pushed 200 elements from Grasshopper.\",\"referencedObject\":\"e70a5f347c76936b077d7dc341fc9b54\",\"sourceApplication\":\"Grasshopper\",\"parents\":null,\"authorId\":\"a25c8b9c9c\",\"authorName\":\"Pablo Arango\",\"branchName\":\"rev1/utci/utci_spring\",\"createdAt\":\"2022-01-24T15:39:31.632Z\"},{\"id\":\"a284a704b4\",\"message\":\"Pushed 202 elements from Grasshopper.\",\"referencedObject\":\"ef234e6eb604d28d9273e3b500739988\",\"sourceApplication\":\"Grasshopper\",\"parents\":[\"7d00012fa4\"],\"authorId\":\"a25c8b9c9c\",\"authorName\":\"Pablo Arango\",\"branchName\":\"rev1/utci/utci_spring\",\"createdAt\":\"2022-01-24T15:30:54.391Z\"},{\"id\":\"417d00d6d1\",\"message\":\"Pushed 200 elements from Grasshopper.\",\"referencedObject\":\"e70a5f347c76936b077d7dc341fc9b54\",\"sourceApplication\":\"Grasshopper\",\"parents\":[\"8955eb5c99\"],\"authorId\":\"a25c8b9c9c\",\"authorName\":\"Pablo Arango\",\"branchName\":\"rev1/utci/utci_spring\",\"createdAt\":\"2022-01-24T15:30:53.361Z\"}]}},{\"id\":\"7880a7aa24\",\"name\":\"rev1/utci/utci_winter\",\"description\":\"hellooooo\",\"commits\":{\"totalCount\":4,\"items\":[{\"id\":\"5563ad6f04\",\"message\":\"Pushed 203 elements from Grasshopper.\",\"referencedObject\":\"3f2283478ba1170df491ed54623d7df3\",\"sourceApplication\":\"Grasshopper\",\"parents\":null,\"authorId\":\"a25c8b9c9c\",\"authorName\":\"Pablo Arango\",\"branchName\":\"rev1/utci/utci_winter\",\"createdAt\":\"2022-01-24T15:39:39.135Z\"},{\"id\":\"9fc1e77d90\",\"message\":\"Pushed 203 elements from Grasshopper.\",\"referencedObject\":\"3f2283478ba1170df491ed54623d7df3\",\"sourceApplication\":\"Grasshopper\",\"parents\":[\"4495c91537\"],\"authorId\":\"a25c8b9c9c\",\"authorName\":\"Pablo Arango\",\"branchName\":\"rev1/utci/utci_winter\",\"createdAt\":\"2022-01-24T15:32:48.621Z\"},{\"id\":\"d322271ec9\",\"message\":\"Pushed 193 elements from Grasshopper.\",\"referencedObject\":\"3be9b7cca5b9f4b2333ceb9b41f73e7b\",\"sourceApplication\":\"Grasshopper\",\"parents\":[\"a284a704b4\"],\"authorId\":\"a25c8b9c9c\",\"authorName\":\"Pablo Arango\",\"branchName\":\"rev1/utci/utci_winter\",\"createdAt\":\"2022-01-24T15:31:09.319Z\"},{\"id\":\"f4d93dc830\",\"message\":\"Pushed 203 elements from Grasshopper.\",\"referencedObject\":\"3f2283478ba1170df491ed54623d7df3\",\"sourceApplication\":\"Grasshopper\",\"parents\":[\"417d00d6d1\"],\"authorId\":\"a25c8b9c9c\",\"authorName\":\"Pablo Arango\",\"branchName\":\"rev1/utci/utci_winter\",\"createdAt\":\"2022-01-24T15:31:07.867Z\"}]}},{\"id\":\"93712efecb\",\"name\":\"rev1/utci/utci_annual\",\"description\":\"hellooooo\",\"commits\":{\"totalCount\":3,\"items\":[{\"id\":\"8a4708bf5a\",\"message\":\"Pushed 207 elements from Grasshopper.\",\"referencedObject\":\"ef9c2dbcd0e3c836de85cce93b6cb394\",\"sourceApplication\":\"Grasshopper\",\"parents\":null,\"authorId\":\"a25c8b9c9c\",\"authorName\":\"Pablo Arango\",\"branchName\":\"rev1/utci/utci_annual\",\"createdAt\":\"2022-01-24T15:39:49.014Z\"},{\"id\":\"86ee05126c\",\"message\":\"Pushed 203 elements from Grasshopper.\",\"referencedObject\":\"d51edfb9ae4e4038226b604a5a055f46\",\"sourceApplication\":\"Grasshopper\",\"parents\":[\"d322271ec9\"],\"authorId\":\"a25c8b9c9c\",\"authorName\":\"Pablo Arango\",\"branchName\":\"rev1/utci/utci_annual\",\"createdAt\":\"2022-01-24T15:31:52.943Z\"},{\"id\":\"4495c91537\",\"message\":\"Pushed 207 elements from Grasshopper.\",\"referencedObject\":\"ef9c2dbcd0e3c836de85cce93b6cb394\",\"sourceApplication\":\"Grasshopper\",\"parents\":[\"f4d93dc830\"],\"authorId\":\"a25c8b9c9c\",\"authorName\":\"Pablo Arango\",\"branchName\":\"rev1/utci/utci_annual\",\"createdAt\":\"2022-01-24T15:31:51.788Z\"}]}},{\"id\":\"c2df544008\",\"name\":\"rev1/mrt/mrt_annual\",\"description\":\"hellooooo\",\"commits\":{\"totalCount\":2,\"items\":[{\"id\":\"81fce4bd23\",\"message\":\"Pushed 203 elements from Grasshopper.\",\"referencedObject\":\"d51edfb9ae4e4038226b604a5a055f46\",\"sourceApplication\":\"Grasshopper\",\"parents\":null,\"authorId\":\"a25c8b9c9c\",\"authorName\":\"Pablo Arango\",\"branchName\":\"rev1/mrt/mrt_annual\",\"createdAt\":\"2022-01-24T15:39:51.810Z\"},{\"id\":\"573328cbbf\",\"message\":\"Pushed 203 elements from Grasshopper.\",\"referencedObject\":\"d51edfb9ae4e4038226b604a5a055f46\",\"sourceApplication\":\"Grasshopper\",\"parents\":[\"86ee05126c\"],\"authorId\":\"a25c8b9c9c\",\"authorName\":\"Pablo Arango\",\"branchName\":\"rev1/mrt/mrt_annual\",\"createdAt\":\"2022-01-24T15:32:32.794Z\"}]}},{\"id\":\"e2ce1a2880\",\"name\":\"rev1/mrt/mrt_spring\",\"description\":\"hellooooo\",\"commits\":{\"totalCount\":1,\"items\":[{\"id\":\"88725e10d8\",\"message\":\"Pushed 202 elements from Grasshopper.\",\"referencedObject\":\"ef234e6eb604d28d9273e3b500739988\",\"sourceApplication\":\"Grasshopper\",\"parents\":null,\"authorId\":\"a25c8b9c9c\",\"authorName\":\"Pablo Arango\",\"branchName\":\"rev1/mrt/mrt_spring\",\"createdAt\":\"2022-01-24T15:39:34.461Z\"}]}},{\"id\":\"aa08e5d9a9\",\"name\":\"rev1/mrt/mrt_summer\",\"description\":\"hellooooo\",\"commits\":{\"totalCount\":3,\"items\":[{\"id\":\"5991200f40\",\"message\":\"Pushed 202 elements from Grasshopper.\",\"referencedObject\":\"20e42c3ff1ff9d37a327cdf1586d1f41\",\"sourceApplication\":\"Grasshopper\",\"parents\":null,\"authorId\":\"a25c8b9c9c\",\"authorName\":\"Pablo Arango\",\"branchName\":\"rev1/mrt/mrt_summer\",\"createdAt\":\"2022-01-24T15:39:59.499Z\"},{\"id\":\"23b7980844\",\"message\":\"Pushed 202 elements from Grasshopper.\",\"referencedObject\":\"20e42c3ff1ff9d37a327cdf1586d1f41\",\"sourceApplication\":\"Grasshopper\",\"parents\":null,\"authorId\":\"a25c8b9c9c\",\"authorName\":\"Pablo Arango\",\"branchName\":\"rev1/mrt/mrt_summer\",\"createdAt\":\"2022-01-24T15:39:24.664Z\"},{\"id\":\"ef73bff1f6\",\"message\":\"Pushed 202 elements from Grasshopper.\",\"referencedObject\":\"20e42c3ff1ff9d37a327cdf1586d1f41\",\"sourceApplication\":\"Grasshopper\",\"parents\":[\"00f34334cf\"],\"authorId\":\"a25c8b9c9c\",\"authorName\":\"Pablo Arango\",\"branchName\":\"rev1/mrt/mrt_summer\",\"createdAt\":\"2022-01-24T15:32:56.648Z\"}]}},{\"id\":\"54961257a7\",\"name\":\"globals\",\"description\":\"Stream globals\",\"commits\":{\"totalCount\":1,\"items\":[{\"id\":\"de9f9f6994\",\"message\":\"init\",\"referencedObject\":\"c10b278e731eb787c79263aa0f5a1061\",\"sourceApplication\":\"web\",\"parents\":null,\"authorId\":\"a25c8b9c9c\",\"authorName\":\"Pablo Arango\",\"branchName\":\"globals\",\"createdAt\":\"2022-02-16T10:32:22.728Z\"}]}},{\"id\":\"968a24e9ce\",\"name\":\"rev2/daylight/df\",\"description\":\"hellooooo\",\"commits\":{\"totalCount\":0,\"items\":[]}},{\"id\":\"e638ed2101\",\"name\":\"rev1/rad/annual\",\"description\":\"hellooooo\",\"commits\":{\"totalCount\":8,\"items\":[{\"id\":\"e68a22b626\",\"message\":\"Pushed 13 elements from Grasshopper.\",\"referencedObject\":\"b3b0b8693619023be545ec036618bb65\",\"sourceApplication\":\"Grasshopper\",\"parents\":[\"e724d2ed91\"],\"authorId\":\"a25c8b9c9c\",\"authorName\":\"Pablo Arango\",\"branchName\":\"rev1/rad/annual\",\"createdAt\":\"2022-03-07T15:50:56.569Z\"},{\"id\":\"e724d2ed91\",\"message\":\"Pushed 13 elements from Grasshopper.\",\"referencedObject\":\"75fc25655c16ab120dfcb9d789342080\",\"sourceApplication\":\"Grasshopper\",\"parents\":[\"7087de15b5\"],\"authorId\":\"a25c8b9c9c\",\"authorName\":\"Pablo Arango\",\"branchName\":\"rev1/rad/annual\",\"createdAt\":\"2022-03-07T14:10:20.049Z\"},{\"id\":\"7087de15b5\",\"message\":\"Pushed 83 elements from Grasshopper.\",\"referencedObject\":\"57193814f1d10ea5d9937e33a08ff135\",\"sourceApplication\":\"Grasshopper\",\"parents\":[\"3e766e1c8b\"],\"authorId\":\"a25c8b9c9c\",\"authorName\":\"Pablo Arango\",\"branchName\":\"rev1/rad/annual\",\"createdAt\":\"2022-03-07T14:02:54.056Z\"},{\"id\":\"3e766e1c8b\",\"message\":\"Pushed 13 elements from Grasshopper.\",\"referencedObject\":\"14ead1d367c88b7cae1c37529dbbbfcb\",\"sourceApplication\":\"Grasshopper\",\"parents\":[\"8c351572ed\"],\"authorId\":\"a25c8b9c9c\",\"authorName\":\"Pablo Arango\",\"branchName\":\"rev1/rad/annual\",\"createdAt\":\"2022-03-07T11:15:38.896Z\"},{\"id\":\"8c351572ed\",\"message\":\"Pushed 13 elements from Grasshopper.\",\"referencedObject\":\"ae47d191e34bd2883f5316dface7c92b\",\"sourceApplication\":\"Grasshopper\",\"parents\":[\"cd00b391d9\"],\"authorId\":\"a25c8b9c9c\",\"authorName\":\"Pablo Arango\",\"branchName\":\"rev1/rad/annual\",\"createdAt\":\"2022-03-07T10:07:39.355Z\"},{\"id\":\"cd00b391d9\",\"message\":\"Pushed 149 elements from Grasshopper.\",\"referencedObject\":\"84780275bf946798d1c48e21d4d22df5\",\"sourceApplication\":\"Grasshopper\",\"parents\":[\"945b94f4d1\"],\"authorId\":\"a25c8b9c9c\",\"authorName\":\"Pablo Arango\",\"branchName\":\"rev1/rad/annual\",\"createdAt\":\"2022-03-07T10:06:34.587Z\"},{\"id\":\"945b94f4d1\",\"message\":\"Pushed 149 elements from Grasshopper.\",\"referencedObject\":\"0d9d43dbfb76f1bd05da56a68c48192c\",\"sourceApplication\":\"Grasshopper\",\"parents\":[\"4e6ecee625\"],\"authorId\":\"a25c8b9c9c\",\"authorName\":\"Pablo Arango\",\"branchName\":\"rev1/rad/annual\",\"createdAt\":\"2022-03-07T10:05:48.687Z\"},{\"id\":\"4e6ecee625\",\"message\":\"Pushed 149 elements from Grasshopper.\",\"referencedObject\":\"76a770405ca5067130de7b414a26b177\",\"sourceApplication\":\"Grasshopper\",\"parents\":[\"9dfb6ea129\"],\"authorId\":\"a25c8b9c9c\",\"authorName\":\"Pablo Arango\",\"branchName\":\"rev1/rad/annual\",\"createdAt\":\"2022-03-07T10:04:23.156Z\"}]}}]}}}}\n",
      "\n"
     ]
    }
   ],
   "source": [
    "\n",
    "# create and authenticate a client\n",
    "client = get_authenticated_client()\n",
    "branches = get_branches(client = client, stream_id= STREAM_ID )\n",
    "df_branches = speckle_df(branches)\n",
    "\n",
    "# df_data # TODO "
   ]
  },
  {
   "cell_type": "code",
   "execution_count": 200,
   "metadata": {},
   "outputs": [
    {
     "data": {
      "text/html": [
       "<div>\n",
       "<style scoped>\n",
       "    .dataframe tbody tr th:only-of-type {\n",
       "        vertical-align: middle;\n",
       "    }\n",
       "\n",
       "    .dataframe tbody tr th {\n",
       "        vertical-align: top;\n",
       "    }\n",
       "\n",
       "    .dataframe thead th {\n",
       "        text-align: right;\n",
       "    }\n",
       "</style>\n",
       "<table border=\"1\" class=\"dataframe\">\n",
       "  <thead>\n",
       "    <tr style=\"text-align: right;\">\n",
       "      <th></th>\n",
       "      <th>branch</th>\n",
       "      <th>id</th>\n",
       "      <th>b-object</th>\n",
       "      <th>revision</th>\n",
       "      <th>area</th>\n",
       "      <th>metric</th>\n",
       "    </tr>\n",
       "  </thead>\n",
       "  <tbody>\n",
       "    <tr>\n",
       "      <th>1</th>\n",
       "      <td>rev1/cfd/0</td>\n",
       "      <td>1e986514a3</td>\n",
       "      <td>id='1e986514a3' name='rev1/cfd/0' description=...</td>\n",
       "      <td>rev1</td>\n",
       "      <td>cfd</td>\n",
       "      <td>0</td>\n",
       "    </tr>\n",
       "    <tr>\n",
       "      <th>2</th>\n",
       "      <td>rev1/cfd/90</td>\n",
       "      <td>2f628a5b63</td>\n",
       "      <td>id='2f628a5b63' name='rev1/cfd/90' description...</td>\n",
       "      <td>rev1</td>\n",
       "      <td>cfd</td>\n",
       "      <td>90</td>\n",
       "    </tr>\n",
       "    <tr>\n",
       "      <th>3</th>\n",
       "      <td>rev1/cfd/180</td>\n",
       "      <td>f5832180f1</td>\n",
       "      <td>id='f5832180f1' name='rev1/cfd/180' descriptio...</td>\n",
       "      <td>rev1</td>\n",
       "      <td>cfd</td>\n",
       "      <td>180</td>\n",
       "    </tr>\n",
       "    <tr>\n",
       "      <th>4</th>\n",
       "      <td>rev1/cfd/225</td>\n",
       "      <td>057325d70d</td>\n",
       "      <td>id='057325d70d' name='rev1/cfd/225' descriptio...</td>\n",
       "      <td>rev1</td>\n",
       "      <td>cfd</td>\n",
       "      <td>225</td>\n",
       "    </tr>\n",
       "    <tr>\n",
       "      <th>5</th>\n",
       "      <td>rev1/cfd/270</td>\n",
       "      <td>5b77d22cfd</td>\n",
       "      <td>id='5b77d22cfd' name='rev1/cfd/270' descriptio...</td>\n",
       "      <td>rev1</td>\n",
       "      <td>cfd</td>\n",
       "      <td>270</td>\n",
       "    </tr>\n",
       "  </tbody>\n",
       "</table>\n",
       "</div>"
      ],
      "text/plain": [
       "         branch          id  \\\n",
       "1    rev1/cfd/0  1e986514a3   \n",
       "2   rev1/cfd/90  2f628a5b63   \n",
       "3  rev1/cfd/180  f5832180f1   \n",
       "4  rev1/cfd/225  057325d70d   \n",
       "5  rev1/cfd/270  5b77d22cfd   \n",
       "\n",
       "                                            b-object revision area metric  \n",
       "1  id='1e986514a3' name='rev1/cfd/0' description=...     rev1  cfd      0  \n",
       "2  id='2f628a5b63' name='rev1/cfd/90' description...     rev1  cfd     90  \n",
       "3  id='f5832180f1' name='rev1/cfd/180' descriptio...     rev1  cfd    180  \n",
       "4  id='057325d70d' name='rev1/cfd/225' descriptio...     rev1  cfd    225  \n",
       "5  id='5b77d22cfd' name='rev1/cfd/270' descriptio...     rev1  cfd    270  "
      ]
     },
     "execution_count": 200,
     "metadata": {},
     "output_type": "execute_result"
    }
   ],
   "source": [
    "df_branches.head() #use df in the application"
   ]
  },
  {
   "cell_type": "code",
   "execution_count": 201,
   "metadata": {},
   "outputs": [
    {
     "data": {
      "text/html": [
       "<div>\n",
       "<style scoped>\n",
       "    .dataframe tbody tr th:only-of-type {\n",
       "        vertical-align: middle;\n",
       "    }\n",
       "\n",
       "    .dataframe tbody tr th {\n",
       "        vertical-align: top;\n",
       "    }\n",
       "\n",
       "    .dataframe thead th {\n",
       "        text-align: right;\n",
       "    }\n",
       "</style>\n",
       "<table border=\"1\" class=\"dataframe\">\n",
       "  <thead>\n",
       "    <tr style=\"text-align: right;\">\n",
       "      <th></th>\n",
       "      <th>branch</th>\n",
       "      <th>id</th>\n",
       "      <th>b-object</th>\n",
       "      <th>revision</th>\n",
       "      <th>area</th>\n",
       "      <th>metric</th>\n",
       "    </tr>\n",
       "  </thead>\n",
       "  <tbody>\n",
       "    <tr>\n",
       "      <th>24</th>\n",
       "      <td>rev1/rad/annual</td>\n",
       "      <td>e638ed2101</td>\n",
       "      <td>id='e638ed2101' name='rev1/rad/annual' descrip...</td>\n",
       "      <td>rev1</td>\n",
       "      <td>rad</td>\n",
       "      <td>annual</td>\n",
       "    </tr>\n",
       "  </tbody>\n",
       "</table>\n",
       "</div>"
      ],
      "text/plain": [
       "             branch          id  \\\n",
       "24  rev1/rad/annual  e638ed2101   \n",
       "\n",
       "                                             b-object revision area  metric  \n",
       "24  id='e638ed2101' name='rev1/rad/annual' descrip...     rev1  rad  annual  "
      ]
     },
     "execution_count": 201,
     "metadata": {},
     "output_type": "execute_result"
    }
   ],
   "source": [
    "annual_rad = df_branches[df_branches.branch == 'rev1/rad/annual']\n",
    "annual_rad"
   ]
  },
  {
   "cell_type": "code",
   "execution_count": 202,
   "metadata": {},
   "outputs": [],
   "source": [
    "# get the specified commit data\n",
    "# stream = client.stream.get(STREAM_ID)\n",
    "# create an authenticated server transport from the client and receive the commit obj\n",
    "transport = ServerTransport(STREAM_ID, client)\n",
    "# get all the branches\n",
    "# branches = client.branch.list(stream_id=STREAM_ID, branches_limit= 100)"
   ]
  },
  {
   "cell_type": "code",
   "execution_count": 203,
   "metadata": {},
   "outputs": [],
   "source": [
    "branch = annual_rad['b-object'].iloc[0]\n",
    "commit = branch.commits.items[0]\n",
    "data = operations.receive(commit.referencedObject, transport)"
   ]
  },
  {
   "cell_type": "code",
   "execution_count": null,
   "metadata": {},
   "outputs": [],
   "source": []
  },
  {
   "cell_type": "markdown",
   "metadata": {},
   "source": [
    "## Here I want to explore how to get the data from the objects\n",
    "Maybe it's better to ask in the forum if I can filter the date using a GraphAPI"
   ]
  },
  {
   "cell_type": "code",
   "execution_count": 90,
   "metadata": {},
   "outputs": [],
   "source": [
    "# all_data=[]\n",
    "# for b in branches: #branch\n",
    "#     commit = b.commits.items[0] #select lastest commit\n",
    "#     data = operations.receive(commit.referencedObject, transport)\n",
    "#     all_data.append((b.name,data))\n",
    "\n",
    "# # commit = client.commit.get(STREAM_ID, '2dd0e86d1a')\n",
    "# # data = operations.receive(commit.referencedObject, transport)\n",
    "# # data"
   ]
  },
  {
   "cell_type": "code",
   "execution_count": 204,
   "metadata": {},
   "outputs": [],
   "source": [
    "baseObjs = data['@data'][0]\n",
    "b_context = baseObjs[0]\n",
    "b_results = baseObjs[1:]"
   ]
  },
  {
   "cell_type": "code",
   "execution_count": 230,
   "metadata": {},
   "outputs": [],
   "source": [
    "res = []\n",
    "for base in b_results:\n",
    "    s = pd.Series(base['@results'])\n",
    "    res.append(s)\n",
    "    # print(base['@results'])\n",
    "df = pd.concat(res, axis=1)\n",
    "df.columns = ['plaza', 'buildings']"
   ]
  },
  {
   "cell_type": "code",
   "execution_count": 231,
   "metadata": {},
   "outputs": [
    {
     "data": {
      "text/plain": [
       "array([[<AxesSubplot:title={'center':'plaza'}>,\n",
       "        <AxesSubplot:title={'center':'buildings'}>]], dtype=object)"
      ]
     },
     "execution_count": 231,
     "metadata": {},
     "output_type": "execute_result"
    },
    {
     "data": {
      "image/png": "[encoded data removed]",
      "text/plain": [
       "<Figure size 432x288 with 2 Axes>"
      ]
     },
     "metadata": {
      "needs_background": "light"
     },
     "output_type": "display_data"
    }
   ],
   "source": [
    "df.hist()"
   ]
  },
  {
   "cell_type": "code",
   "execution_count": 232,
   "metadata": {},
   "outputs": [
    {
     "data": {
      "text/html": [
       "<div>\n",
       "<style scoped>\n",
       "    .dataframe tbody tr th:only-of-type {\n",
       "        vertical-align: middle;\n",
       "    }\n",
       "\n",
       "    .dataframe tbody tr th {\n",
       "        vertical-align: top;\n",
       "    }\n",
       "\n",
       "    .dataframe thead th {\n",
       "        text-align: right;\n",
       "    }\n",
       "</style>\n",
       "<table border=\"1\" class=\"dataframe\">\n",
       "  <thead>\n",
       "    <tr style=\"text-align: right;\">\n",
       "      <th></th>\n",
       "      <th>plaza</th>\n",
       "      <th>buildings</th>\n",
       "    </tr>\n",
       "  </thead>\n",
       "  <tbody>\n",
       "    <tr>\n",
       "      <th>count</th>\n",
       "      <td>2,723.0</td>\n",
       "      <td>279.0</td>\n",
       "    </tr>\n",
       "    <tr>\n",
       "      <th>mean</th>\n",
       "      <td>297.0</td>\n",
       "      <td>450.6</td>\n",
       "    </tr>\n",
       "    <tr>\n",
       "      <th>std</th>\n",
       "      <td>322.5</td>\n",
       "      <td>282.1</td>\n",
       "    </tr>\n",
       "    <tr>\n",
       "      <th>min</th>\n",
       "      <td>0.0</td>\n",
       "      <td>0.0</td>\n",
       "    </tr>\n",
       "    <tr>\n",
       "      <th>25%</th>\n",
       "      <td>0.0</td>\n",
       "      <td>274.8</td>\n",
       "    </tr>\n",
       "    <tr>\n",
       "      <th>50%</th>\n",
       "      <td>198.8</td>\n",
       "      <td>369.7</td>\n",
       "    </tr>\n",
       "    <tr>\n",
       "      <th>75%</th>\n",
       "      <td>567.9</td>\n",
       "      <td>700.2</td>\n",
       "    </tr>\n",
       "    <tr>\n",
       "      <th>max</th>\n",
       "      <td>1,021.2</td>\n",
       "      <td>1,076.1</td>\n",
       "    </tr>\n",
       "  </tbody>\n",
       "</table>\n",
       "</div>"
      ],
      "text/plain": [
       "        plaza  buildings\n",
       "count 2,723.0      279.0\n",
       "mean    297.0      450.6\n",
       "std     322.5      282.1\n",
       "min       0.0        0.0\n",
       "25%       0.0      274.8\n",
       "50%     198.8      369.7\n",
       "75%     567.9      700.2\n",
       "max   1,021.2    1,076.1"
      ]
     },
     "execution_count": 232,
     "metadata": {},
     "output_type": "execute_result"
    }
   ],
   "source": [
    "pd.options.display.float_format = '{:,.1f}'.format\n",
    "df.describe()"
   ]
  },
  {
   "cell_type": "code",
   "execution_count": 233,
   "metadata": {},
   "outputs": [
    {
     "data": {
      "text/plain": [
       "{'are_colors_default': None,\n",
       " 'base_plane': None,\n",
       " 'colors': ['0,0,0', '91,49,112', '191,47,100', '225,226,99', '248,251,224'],\n",
       " 'continuous_legend': False,\n",
       " 'decimal_coun': False,\n",
       " 'font': None,\n",
       " 'include_larger_smaller': 1,\n",
       " 'max': 1100.0,\n",
       " 'min': 0.0,\n",
       " 'segment_count': 12,\n",
       " 'segment_height': None,\n",
       " 'text_height': None,\n",
       " 'title': 'kWh/m2',\n",
       " 'vertical': True}"
      ]
     },
     "execution_count": 233,
     "metadata": {},
     "output_type": "execute_result"
    }
   ],
   "source": [
    "import json \n",
    "b = b_results[0] \n",
    "legend_par = json.loads(b['@legend_par'])\n",
    "legend_par"
   ]
  },
  {
   "cell_type": "code",
   "execution_count": 209,
   "metadata": {},
   "outputs": [],
   "source": [
    "# print(custom_colors)\n",
    "\n",
    "\n",
    "# print(custom_colors_remap)"
   ]
  },
  {
   "cell_type": "code",
   "execution_count": 1,
   "metadata": {},
   "outputs": [],
   "source": [
    "import os\n",
    "os.environ[\"GSHEET_ID\"] = \"17oH61DLGHjllLqrNOX2Tx8oc69qyYCEHrlkMvnDL1Tg\""
   ]
  },
  {
   "cell_type": "code",
   "execution_count": 234,
   "metadata": {},
   "outputs": [
    {
     "data": {
      "image/png": "[encoded data removed]",
      "text/plain": [
       "<Figure size 36x576 with 1 Axes>"
      ]
     },
     "execution_count": 234,
     "metadata": {},
     "output_type": "execute_result"
    },
    {
     "data": {
      "image/png": "[encoded data removed]",
      "text/plain": [
       "<Figure size 36x576 with 1 Axes>"
      ]
     },
     "metadata": {
      "needs_background": "light"
     },
     "output_type": "display_data"
    }
   ],
   "source": [
    "import matplotlib as mpl\n",
    "import matplotlib.pyplot as plt\n",
    "import numpy as np\n",
    "\n",
    "# color bar from matplotlib \n",
    "def colorBar(legend_par):\n",
    "    # remap rgb from 0 - 255 to  0 - 1\n",
    "    def remap_rgb(col):\n",
    "        def remap(num):\n",
    "            return np.interp(num, [0, 255], [0, 1]).round(4)\n",
    "\n",
    "        cols = [remap(col) for col in col.split(',')]\n",
    "\n",
    "        return tuple(cols)\n",
    "\n",
    "    # remap colors\n",
    "    colors_remap = [remap_rgb(col) for col in legend_par['colors']]\n",
    "\n",
    "    # parse data from legend_par\n",
    "    low = float(legend_par['min'])\n",
    "    high = float(legend_par['max'])\n",
    "    num_div = int(legend_par['segment_count'])\n",
    "    include_larger_smaller = 'neither' if legend_par['include_larger_smaller'] else 'both'\n",
    "    vertical = 'vertical' if legend_par['vertical'] else 'horizontal'\n",
    "    title = legend_par['title']\n",
    "\n",
    "    # create bounds\n",
    "    bounds = np.linspace(low, high, num_div)\n",
    "\n",
    "    # adjust plot size if vertical\n",
    "    figsize = (0.5, 8) if vertical else (8, 1)\n",
    "\n",
    "    # create figure\n",
    "    fig, ax = plt.subplots(figsize=figsize)  # figsize=(6, 1)\n",
    "    fig.subplots_adjust(bottom=0.5)\n",
    "\n",
    "    # cmap = mpl.cm.viridis # matplotlib colors\n",
    "    # cmap = (mpl.colors.ListedColormap(['royalblue', 'cyan', 'yellow', 'orange'])\n",
    "    #         .with_extremes(over='red', under='blue')) # extra colors for the extremes\n",
    "\n",
    "    # create color map from rgb list\n",
    "    cmap = mpl.colors.LinearSegmentedColormap.from_list(\n",
    "        \"lb_colors\", colors_remap)\n",
    "\n",
    "    legend_par['continuous_legend'] = False\n",
    "    # change normalization in 'continuous_legend'\n",
    "    if legend_par['continuous_legend']:\n",
    "        norm = mpl.colors.Normalize(vmin=low, vmax=high)\n",
    "    else:\n",
    "        norm = mpl.colors.BoundaryNorm(bounds, cmap.N, extend=include_larger_smaller) # 'max' 'min' 'both' 'neither'\n",
    "\n",
    "    # plot colorbar with matplotlib\n",
    "    fig.colorbar(mpl.cm.ScalarMappable(\n",
    "        norm=norm,\n",
    "        cmap=cmap),\n",
    "        cax=ax,\n",
    "        orientation=vertical,\n",
    "        ticks=bounds,\n",
    "        label=title, \n",
    "        ) # additional arguments aspect, \n",
    "    \n",
    "    # plt.savefig('color_bar.png', bbox_inches='tight')\n",
    "    return fig\n",
    "\n",
    "\n",
    "color_bar = colorBar(legend_par)\n",
    "color_bar\n"
   ]
  },
  {
   "cell_type": "code",
   "execution_count": null,
   "metadata": {},
   "outputs": [],
   "source": [
    "\n",
    "\n",
    "# get the specified commit data\n",
    "commit = client.commit.get(STREAM_ID, COMMIT_ID)\n",
    "\n",
    "# create an authenticated server transport from the client and receive the commit obj\n",
    "transport = ServerTransport(STREAM_ID, client)\n",
    "res = operations.receive(commit.referencedObject, transport)\n",
    "\n",
    "# get the list of levels from the received object\n",
    "# levels = res[\"data\"]\n",
    "\n",
    "base = res[\"@data\"][0][0][0][0][0]\n",
    "base\n",
    "\n",
    "df_values = base[\"@DF_values\"]\n",
    "\n",
    "df = pd.DataFrame(df_values, columns=['df_values'])\n",
    "\n",
    "print(df.head())"
   ]
  },
  {
   "cell_type": "code",
   "execution_count": null,
   "metadata": {},
   "outputs": [],
   "source": [
    "# initialise and authenticate your client\n",
    "stream_id = \"62e5ff6a2b\"\n",
    "account = get_default_account()\n",
    "client = SpeckleClient(host=account.serverInfo.url)\n",
    "client.authenticate(token=account.token)\n",
    "transport = ServerTransport(client=client, stream_id=stream_id)\n",
    "\n",
    "# get the `globals` branch\n",
    "branch = client.branch.get(stream_id, \"globals\")\n",
    "\n",
    "# get the latest commit\n",
    "latest_commit = branch.commits.items[0]\n",
    "\n",
    "# receive the globals object\n",
    "globs = operations.receive(latest_commit.referencedObject, transport)"
   ]
  }
 ],
 "metadata": {
  "interpreter": {
   "hash": "2370bb269eefc40f8de276308379799ec22f377b7815c435f28f2257fe55b83b"
  },
  "kernelspec": {
   "display_name": "Python 3.8.8 64-bit",
   "language": "python",
   "name": "python3"
  },
  "language_info": {
   "codemirror_mode": {
    "name": "ipython",
    "version": 3
   },
   "file_extension": ".py",
   "mimetype": "text/x-python",
   "name": "python",
   "nbconvert_exporter": "python",
   "pygments_lexer": "ipython3",
   "version": "3.8.12"
  },
  "orig_nbformat": 4
 },
 "nbformat": 4,
 "nbformat_minor": 2
}
